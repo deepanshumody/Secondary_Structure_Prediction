{
  "nbformat": 4,
  "nbformat_minor": 0,
  "metadata": {
    "kernelspec": {
      "display_name": "Python 3",
      "language": "python",
      "name": "python3"
    },
    "language_info": {
      "name": "python",
      "version": "3.6.6",
      "mimetype": "text/x-python",
      "codemirror_mode": {
        "name": "ipython",
        "version": 3
      },
      "pygments_lexer": "ipython3",
      "nbconvert_exporter": "python",
      "file_extension": ".py"
    },
    "colab": {
      "name": "SS_Prediction_2.ipynb",
      "provenance": [],
      "collapsed_sections": []
    }
  },
  "cells": [
    {
      "cell_type": "markdown",
      "metadata": {
        "_uuid": "2affe7e67c27ea839c980ceb991ae1e21af03d63",
        "id": "g3GWpbWS4Gq-"
      },
      "source": [
        "# Load Data\n",
        "To show proof of concept only considering sequences shorter than 32 amino acids. Also experiments suggest to apply a sliding overlapping window of size 3 to the input seqeunces. In the sense of  NLP this artificially creates a corpus consisting of much more different words (>7000 different ngrams compared to 20 amino acids). There has been a lot of research in respresenting protein sequences as sentences of  biological words. "
      ]
    },
    {
      "cell_type": "code",
      "metadata": {
        "_uuid": "8f2839f25d086af736a60e9eeb907d3b93b6e0e5",
        "_cell_guid": "b1076dfc-b9ad-4769-8c92-a6c4dae69d19",
        "trusted": true,
        "colab": {
          "base_uri": "https://localhost:8080/",
          "height": 355
        },
        "id": "-lh4Cf2M4GrD",
        "outputId": "5f4b4ce6-f878-4b76-cf0a-a16d222759b9"
      },
      "source": [
        "import numpy as np \n",
        "import pandas as pd\n",
        "import matplotlib.pyplot as plt\n",
        "%matplotlib inline\n",
        "\n",
        "df = pd.read_csv('/content/2018-06-06-pdb-intersect-pisces.csv')\n",
        "df.len.hist(bins=100)\n",
        "print(df.shape)\n",
        "\n",
        "def seq2ngrams(seqs, n=3):\n",
        "    return np.array([[seq[i:i+n] for i in range(len(seq))] for seq in seqs])\n",
        "\n",
        "maxlen_seq = 128\n",
        "input_seqs, target_seqs = df[['seq', 'sst3']][(df.len <= maxlen_seq) & (~df.has_nonstd_aa)].values.T\n",
        "input_grams = seq2ngrams(input_seqs)\n",
        "print(len(input_seqs))"
      ],
      "execution_count": 2,
      "outputs": [
        {
          "output_type": "stream",
          "name": "stdout",
          "text": [
            "(9078, 11)\n",
            "2101\n"
          ]
        },
        {
          "output_type": "stream",
          "name": "stderr",
          "text": [
            "/usr/local/lib/python3.7/dist-packages/ipykernel_launcher.py:11: VisibleDeprecationWarning: Creating an ndarray from ragged nested sequences (which is a list-or-tuple of lists-or-tuples-or ndarrays with different lengths or shapes) is deprecated. If you meant to do this, you must specify 'dtype=object' when creating the ndarray\n",
            "  # This is added back by InteractiveShellApp.init_path()\n"
          ]
        },
        {
          "output_type": "display_data",
          "data": {
            "image/png": "[encoded data removed]",
            "text/plain": [
              "<Figure size 432x288 with 1 Axes>"
            ]
          },
          "metadata": {
            "needs_background": "light"
          }
        }
      ]
    },
    {
      "cell_type": "markdown",
      "metadata": {
        "_uuid": "02b0631dff6029c9f5c9eab8bc1afe2b0480ddb4",
        "id": "-6lDzAnG4GrG"
      },
      "source": [
        "# Preprocessing\n",
        "use preprocessing tools for text from keras to encode input sequence as word rank numbers  and target sequence as one hot. To ensure easy to use training and testing, all sequences are padded with zeros to the maximum sequence length (in our case 32)."
      ]
    },
    {
      "cell_type": "code",
      "metadata": {
        "trusted": true,
        "_uuid": "0dc3b309d5d2d57c083150b0b7b9e0837cf3cf20",
        "colab": {
          "base_uri": "https://localhost:8080/"
        },
        "id": "fakq2lqk4GrH",
        "outputId": "6b09c0d3-f19f-4f01-d2ea-2f5ca1f1a50a"
      },
      "source": [
        "from keras.preprocessing import text, sequence\n",
        "from keras.preprocessing.text import Tokenizer\n",
        "from tensorflow.keras.utils import to_categorical\n",
        "\n",
        "tokenizer_encoder = Tokenizer()\n",
        "tokenizer_encoder.fit_on_texts(input_grams)\n",
        "input_data = tokenizer_encoder.texts_to_sequences(input_grams)\n",
        "input_data = sequence.pad_sequences(input_data, maxlen=maxlen_seq, padding='post')\n",
        "\n",
        "tokenizer_decoder = Tokenizer(char_level=True)\n",
        "tokenizer_decoder.fit_on_texts(target_seqs)\n",
        "target_data = tokenizer_decoder.texts_to_sequences(target_seqs)\n",
        "target_data = sequence.pad_sequences(target_data, maxlen=maxlen_seq, padding='post')\n",
        "target_data = to_categorical(target_data)\n",
        "input_data.shape, target_data.shape"
      ],
      "execution_count": 5,
      "outputs": [
        {
          "output_type": "stream",
          "name": "stdout",
          "text": [
            "Requirement already satisfied: keras in /usr/local/lib/python3.7/dist-packages (2.7.0)\n"
          ]
        },
        {
          "output_type": "execute_result",
          "data": {
            "text/plain": [
              "((2101, 128), (2101, 128, 4))"
            ]
          },
          "metadata": {},
          "execution_count": 5
        }
      ]
    },
    {
      "cell_type": "markdown",
      "metadata": {
        "_uuid": "c4654982e789d9f811329ba84201517538b035ab",
        "id": "VnnDLFfa4GrH"
      },
      "source": [
        "# Build model\n",
        "This example is motivated by the NLP-task of POS-tagging. "
      ]
    },
    {
      "cell_type": "code",
      "metadata": {
        "trusted": true,
        "_uuid": "66e75bebfbaea3e539156fc362b0a4cb40095dfe",
        "colab": {
          "base_uri": "https://localhost:8080/"
        },
        "id": "VCfZmU2Z4GrI",
        "outputId": "eaa1a68b-1fab-4c1b-efce-98bfc67aad6e"
      },
      "source": [
        "from keras.models import Model, Input\n",
        "from keras.layers import LSTM, Embedding, Dense, TimeDistributed, Bidirectional\n",
        "\n",
        "n_words = len(tokenizer_encoder.word_index) + 1\n",
        "n_tags = len(tokenizer_decoder.word_index) + 1\n",
        "print(n_words, n_tags)\n",
        "\n",
        "input = Input(shape=(maxlen_seq,))\n",
        "x = Embedding(input_dim=n_words, output_dim=128, input_length=maxlen_seq)(input)\n",
        "x = Bidirectional(LSTM(units=64, return_sequences=True, recurrent_dropout=0.1))(x)\n",
        "y = TimeDistributed(Dense(n_tags, activation=\"softmax\"))(x)\n",
        "model = Model(input, y)\n",
        "model.summary()"
      ],
      "execution_count": 6,
      "outputs": [
        {
          "output_type": "stream",
          "name": "stdout",
          "text": [
            "8301 4\n",
            "Model: \"model\"\n",
            "_________________________________________________________________\n",
            " Layer (type)                Output Shape              Param #   \n",
            "=================================================================\n",
            " input_1 (InputLayer)        [(None, 128)]             0         \n",
            "                                                                 \n",
            " embedding (Embedding)       (None, 128, 128)          1062528   \n",
            "                                                                 \n",
            " bidirectional (Bidirectiona  (None, 128, 128)         98816     \n",
            " l)                                                              \n",
            "                                                                 \n",
            " time_distributed (TimeDistr  (None, 128, 4)           516       \n",
            " ibuted)                                                         \n",
            "                                                                 \n",
            "=================================================================\n",
            "Total params: 1,161,860\n",
            "Trainable params: 1,161,860\n",
            "Non-trainable params: 0\n",
            "_________________________________________________________________\n"
          ]
        }
      ]
    },
    {
      "cell_type": "markdown",
      "metadata": {
        "_uuid": "92ed195b0b683254ace122b955e288e843dff81e",
        "id": "KvGuE33a4GrJ"
      },
      "source": [
        "# Train and evaluate model\n",
        "The model is trained such that the categorical crossentropy is minimized. For evalutation also Q3-accuracy is computed, by computing the accuracy only for coding characters. "
      ]
    },
    {
      "cell_type": "code",
      "metadata": {
        "trusted": true,
        "_uuid": "10beceaff0e1eb1fba0bf78cd247c58b3c29a1cf",
        "colab": {
          "base_uri": "https://localhost:8080/"
        },
        "id": "tG4gJily4GrL",
        "outputId": "387d64d4-b30e-4db5-900c-2fdb4a7b69f4"
      },
      "source": [
        "from sklearn.model_selection import train_test_split\n",
        "from keras.metrics import categorical_accuracy\n",
        "from keras import backend  as K\n",
        "import tensorflow as tf\n",
        "\n",
        "def q3_acc(y_true, y_pred):\n",
        "    y = tf.argmax(y_true, axis=-1)\n",
        "    y_ = tf.argmax(y_pred, axis=-1)\n",
        "    mask = tf.greater(y, 0)\n",
        "    return K.cast(K.equal(tf.boolean_mask(y, mask), tf.boolean_mask(y_, mask)), K.floatx())\n",
        "\n",
        "model.compile(optimizer=\"rmsprop\", loss=\"categorical_crossentropy\", metrics=[\"accuracy\", q3_acc])\n",
        "\n",
        "X_train, X_test, y_train, y_test = train_test_split(input_data, target_data, test_size=.4, random_state=0)\n",
        "seq_train, seq_test, target_train, target_test = train_test_split(input_seqs, target_seqs, test_size=.4, random_state=0)\n",
        "\n",
        "model.fit(X_train, y_train, batch_size=128, epochs=5, validation_data=(X_test, y_test), verbose=1)"
      ],
      "execution_count": 7,
      "outputs": [
        {
          "output_type": "stream",
          "name": "stdout",
          "text": [
            "Epoch 1/5\n",
            "10/10 [==============================] - 14s 850ms/step - loss: 1.0750 - accuracy: 0.5277 - q3_acc: 0.3562 - val_loss: 0.8149 - val_accuracy: 0.6268 - val_q3_acc: 0.4446\n",
            "Epoch 2/5\n",
            "10/10 [==============================] - 8s 761ms/step - loss: 0.7903 - accuracy: 0.6439 - q3_acc: 0.4796 - val_loss: 0.7318 - val_accuracy: 0.6524 - val_q3_acc: 0.4811\n",
            "Epoch 3/5\n",
            "10/10 [==============================] - 8s 758ms/step - loss: 0.7273 - accuracy: 0.6739 - q3_acc: 0.5217 - val_loss: 0.6909 - val_accuracy: 0.6957 - val_q3_acc: 0.5467\n",
            "Epoch 4/5\n",
            "10/10 [==============================] - 7s 751ms/step - loss: 0.6724 - accuracy: 0.7042 - q3_acc: 0.5660 - val_loss: 0.6469 - val_accuracy: 0.6928 - val_q3_acc: 0.5402\n",
            "Epoch 5/5\n",
            "10/10 [==============================] - 7s 756ms/step - loss: 0.6120 - accuracy: 0.7236 - q3_acc: 0.5943 - val_loss: 0.6173 - val_accuracy: 0.7232 - val_q3_acc: 0.5857\n"
          ]
        },
        {
          "output_type": "execute_result",
          "data": {
            "text/plain": [
              "<keras.callbacks.History at 0x7fb68b6af150>"
            ]
          },
          "metadata": {},
          "execution_count": 7
        }
      ]
    },
    {
      "cell_type": "markdown",
      "metadata": {
        "_uuid": "87da064b3c5af2806a0a72713186d1598fd90056",
        "id": "N9mzJB674GrN"
      },
      "source": [
        "# Results\n",
        "For this small example, the model trained very fast and achieves quite reasonable Q3-accuaracies. In the following three training and three testing examples are shown. Each image shows the softmax activation (red) on top of the underlying one hot ground truth (blue)."
      ]
    },
    {
      "cell_type": "code",
      "metadata": {
        "trusted": true,
        "_uuid": "8021e5b9b6da12c1133e70dc062a7a85ec0d0ff7",
        "colab": {
          "base_uri": "https://localhost:8080/",
          "height": 774
        },
        "id": "sAjTewfx4GrO",
        "outputId": "e1a722b1-e8d4-49eb-a62d-f3e835df45a1"
      },
      "source": [
        "def onehot_to_seq(oh_seq, index):\n",
        "    s = ''\n",
        "    for o in oh_seq:\n",
        "        i = np.argmax(o)\n",
        "        if i != 0:\n",
        "            s += index[i]\n",
        "        else:\n",
        "            break\n",
        "    return s\n",
        "\n",
        "def plot_results(x, y, y_):\n",
        "    print(\"---\")\n",
        "    print(\"Input: \" + str(x))\n",
        "    print(\"Target: \" + str(onehot_to_seq(y, revsere_decoder_index).upper()))\n",
        "    print(\"Result: \" + str(onehot_to_seq(y_, revsere_decoder_index).upper()))\n",
        "    fig = plt.figure(figsize=(10,2))\n",
        "    plt.imshow(y.T, cmap='Blues')\n",
        "    plt.imshow(y_.T, cmap='Reds', alpha=.5)\n",
        "    plt.yticks(range(4), [' '] + [revsere_decoder_index[i+1].upper() for i in range(3)])\n",
        "    plt.show()\n",
        "    \n",
        "revsere_decoder_index = {value:key for key,value in tokenizer_decoder.word_index.items()}\n",
        "revsere_encoder_index = {value:key for key,value in tokenizer_encoder.word_index.items()}\n",
        "\n",
        "N=3\n",
        "y_train_pred = model.predict(X_train[:N])\n",
        "y_test_pred = model.predict(X_test[:N])\n",
        "print('training')\n",
        "for i in range(N):\n",
        "    plot_results(seq_train[i], y_train[i], y_train_pred[i])\n",
        "print('testing')\n",
        "for i in range(N):\n",
        "    plot_results(seq_test[i], y_test[i], y_test_pred[i])"
      ],
      "execution_count": 8,
      "outputs": [
        {
          "output_type": "stream",
          "name": "stdout",
          "text": [
            "training\n",
            "---\n",
            "Input: APTRQPSPVTRPWQHVDAIKEALSLLNDSTDTAAVMDETVEVVSEMFDSQEPTCLQTRLELYKQGLRGSLTSLTGSLTMMASHYKKHCPPTQETSCETQIITFKSFKENLKDFLFIIPFDCWEPVQK\n",
            "Target: CCCCCCCCCCCCCHHHHHHHHHHHHHHCCCCCHHHHCCEEEEECCCCCCCCCCCHHHHHHHHHHHCCHHHHHHHHHHHHHHHHHHHHCCCCCCCCCCEEEEEHHHHHHHHHHHHHHCCCCCCCCCCC\n",
            "Result: CCCCCCCCCCCCCCCCHHHHHHHHHHHCCCCHHHHCCCCCCCCCCCCCCCCCCHHHHHHHHHHHCCCCCCCCCCCCHCCHHHHHHHCCCCCHCCCCCHCEEEEHHHHHHHHHHHCCCCCCCCCCCCC\n"
          ]
        },
        {
          "output_type": "display_data",
          "data": {
            "image/png": "[encoded data removed]",
            "text/plain": [
              "<Figure size 720x144 with 1 Axes>"
            ]
          },
          "metadata": {
            "needs_background": "light"
          }
        },
        {
          "output_type": "stream",
          "name": "stdout",
          "text": [
            "---\n",
            "Input: QGQFFREIENLKEYFNASSPDVAKGGPLFSEILKNWKDESDKKIIQSQIVSFYFKLFENLKDNQVIQRSMDIIKQDMFQKFLNGSSEKLEDFKKLIQIPVDDLQIQRKAINELIKVMNDLS\n",
            "Target: CCCHHHHHHHHHHHHCCCCHHHHCCCCCCHHHHHHCCCCCCCHHHHHHHHHHHHHHHHHCCCCCCCHHHHHHHHHHHHHHHCCCCHHHHHHHHHHHCCCCCCHHHHHHHHHCHHHHHHHCC\n",
            "Result: CCCHHHCHHHHHHCCCCCCCCCCCCCCCCCHHHHCCCCCCCHHHHHHHHHHHHHHHHHHHHCCHHHHHHHHHHHHHHHHHHHCCCHHHHHHHHHHCCCCCHHHHHHHHHHHHHHHHHHC\n"
          ]
        },
        {
          "output_type": "display_data",
          "data": {
            "image/png": "[encoded data removed]",
            "text/plain": [
              "<Figure size 720x144 with 1 Axes>"
            ]
          },
          "metadata": {
            "needs_background": "light"
          }
        },
        {
          "output_type": "stream",
          "name": "stdout",
          "text": [
            "---\n",
            "Input: EPAAAPAPTKEEVLLTEIRDLLKEQNNRS\n",
            "Target: CCCCCCCCCHHHHHHHHHHHHHHHHHHHC\n",
            "Result: CCCCCCCCHHHHHHHHHHHHHHHHCCCCC\n"
          ]
        },
        {
          "output_type": "display_data",
          "data": {
            "image/png": "[encoded data removed]",
            "text/plain": [
              "<Figure size 720x144 with 1 Axes>"
            ]
          },
          "metadata": {
            "needs_background": "light"
          }
        },
        {
          "output_type": "stream",
          "name": "stdout",
          "text": [
            "testing\n",
            "---\n",
            "Input: GSHMSASCGSGNFNKTAAKGVEFSAVAGDCIKYNKSSGTLQIGSWTGVASSYNITSGPQGITNTGNGWTTVANAANGDLYIKIVSASRSFNVKFDNW\n",
            "Target: CCCCCCCCCCCCCCEECCCCCCEEECCCCEEEEEECCCCEEEEECCCCCEEEEECCCCCCEEECCCEEEEECCCCCEEEEEEEEEECCCEEEEEEEC\n",
            "Result: CCCCCCCCCCCCCCCCCCCCEEEECECCCCECCCCCCEEECCCCCCCCCCECCCCCCCCCCCCCCCCCCECCCCCCCEEEEEEECCCCCCCCCCCCC\n"
          ]
        },
        {
          "output_type": "display_data",
          "data": {
            "image/png": "[encoded data removed]",
            "text/plain": [
              "<Figure size 720x144 with 1 Axes>"
            ]
          },
          "metadata": {
            "needs_background": "light"
          }
        },
        {
          "output_type": "stream",
          "name": "stdout",
          "text": [
            "---\n",
            "Input: MKKRSKARKETYSSYIYKVLKQTHPDTGISQKSMSILNSFVNDIFERIATEASKLAAYNKKSTISAREIQTAVRLILPGELAKHAVSEGTRAVTKYSSSTQA\n",
            "Target: CCCCCCCCCCCCHHHHHHHHHHHCCCCEEEHHHHHHHHHHHHHHHHHHHHHHHHHHHHCCCCEECHHHHHHHHHHHCCHHHHHHHHHHHHHHHHHHHCCCCC\n",
            "Result: CCCCCCCCCCCCCCCCCCHHCCCCCCCCCCCCCCCCCCCCCCHHHHHHHHHHHHHHHHHHCHCHHHHHHHHHCCCCCCCHHCHHHHCCCCHHCCCCCCCCCC\n"
          ]
        },
        {
          "output_type": "display_data",
          "data": {
            "image/png": "[encoded data removed]",
            "text/plain": [
              "<Figure size 720x144 with 1 Axes>"
            ]
          },
          "metadata": {
            "needs_background": "light"
          }
        },
        {
          "output_type": "stream",
          "name": "stdout",
          "text": [
            "---\n",
            "Input: GPSSPSVSDYTRANFGGLSEGEAQFSMTARALLDELTDLEGKLRAKLDRWDGDAQAAYWNYQKEWDAAAKDMQNVVAQLGVAIREAHDNYQAAERANTSIWAG\n",
            "Target: CCCCCCHHHHHHHHHHHHHHHHHHHHHHHHHHHHHHHHHHHHHHCCHHHCCHHHHHHHHHHHHHHHHHHHHHHHHHHHHHHHHHHHCCCCCCCCCCCCCCCCC\n",
            "Result: CCCCCCCCCCCCCCCCCCCCCCCCCCCHHHHHHHHHHHHHHHHHHHHHHCCCHHHHHHHHHHHHHHHHHHHHHHHHHHHHHHHHHHHHHHHHHHHHCCCCCC\n"
          ]
        },
        {
          "output_type": "display_data",
          "data": {
            "image/png": "[encoded data removed]",
            "text/plain": [
              "<Figure size 720x144 with 1 Axes>"
            ]
          },
          "metadata": {
            "needs_background": "light"
          }
        }
      ]
    }
  ]
}