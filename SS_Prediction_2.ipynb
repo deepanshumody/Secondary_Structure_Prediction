{
  "nbformat": 4,
  "nbformat_minor": 0,
  "metadata": {
    "colab": {
      "name": "SS Prediction 2",
      "provenance": [],
      "collapsed_sections": [],
      "toc_visible": true,
      "include_colab_link": true
    },
    "kernelspec": {
      "display_name": "Python 3",
      "name": "python3"
    }
  },
  "cells": [
    {
      "cell_type": "markdown",
      "metadata": {
        "id": "view-in-github",
        "colab_type": "text"
      },
      "source": [
        "<a href=\"https://colab.research.google.com/github/dmod99/Secondary_Structure_Prediction/blob/main/SS_Prediction_2.ipynb\" target=\"_parent\"><img src=\"https://colab.research.google.com/assets/colab-badge.svg\" alt=\"Open In Colab\"/></a>"
      ]
    },
    {
      "cell_type": "markdown",
      "metadata": {
        "id": "WOw8yMd1VlnD"
      },
      "source": [
        "# Data Preprocessing Template"
      ]
    },
    {
      "cell_type": "code",
      "metadata": {
        "colab": {
          "base_uri": "https://localhost:8080/"
        },
        "id": "aFIepcKLVlvY",
        "outputId": "49a49fa2-978b-4ec9-fd74-e3d8ee88d23b"
      },
      "source": [
        "from google.colab import drive\n",
        "drive.mount('/content/drive')"
      ],
      "execution_count": null,
      "outputs": [
        {
          "output_type": "stream",
          "text": [
            "Mounted at /content/drive\n"
          ],
          "name": "stdout"
        }
      ]
    },
    {
      "cell_type": "markdown",
      "metadata": {
        "id": "NvUGC8QQV6bV"
      },
      "source": [
        "## Importing the libraries"
      ]
    },
    {
      "cell_type": "code",
      "metadata": {
        "id": "wfFEXZC0WS-V"
      },
      "source": [
        "import numpy as np\n",
        "import matplotlib.pyplot as plt\n",
        "import pandas as pd"
      ],
      "execution_count": null,
      "outputs": []
    },
    {
      "cell_type": "markdown",
      "metadata": {
        "id": "fhYaZ-ENV_c5"
      },
      "source": [
        "## Importing the dataset"
      ]
    },
    {
      "cell_type": "code",
      "metadata": {
        "id": "aqHTg9bxWT_u"
      },
      "source": [
        "dataset = pd.read_csv('/content/drive/MyDrive/test-vPSI-BLAST.dataset')\n",
        "X = dataset.iloc[1: :4].values\n",
        "z= dataset.iloc[2: :4].values\n",
        "a = dataset.iloc[3: :4].values\n",
        "y = dataset.iloc[4: :4].values"
      ],
      "execution_count": null,
      "outputs": []
    },
    {
      "cell_type": "code",
      "metadata": {
        "id": "uACH8aCvhxhJ"
      },
      "source": [
        "X=np.concatenate((z,a), axis=1)"
      ],
      "execution_count": null,
      "outputs": []
    },
    {
      "cell_type": "code",
      "metadata": {
        "id": "NwZ-1sIvxpdZ"
      },
      "source": [
        "print(str(y[0][0]).split())"
      ],
      "execution_count": null,
      "outputs": []
    },
    {
      "cell_type": "code",
      "metadata": {
        "id": "srwSglAMwKo4"
      },
      "source": [
        "print(y[0][0])"
      ],
      "execution_count": null,
      "outputs": []
    },
    {
      "cell_type": "code",
      "metadata": {
        "id": "NimcpoymqnM2"
      },
      "source": [
        "print(a[0])"
      ],
      "execution_count": null,
      "outputs": []
    },
    {
      "cell_type": "code",
      "metadata": {
        "id": "VQIMHIQdTf6B"
      },
      "source": [
        "print(a[0][0])"
      ],
      "execution_count": null,
      "outputs": []
    },
    {
      "cell_type": "code",
      "metadata": {
        "id": "j4eRvQRU0IGP"
      },
      "source": [
        "X_train = []\n",
        "y_train = []\n",
        "for j in range(3154):\n",
        "    words = str(a[j][0]).split()\n",
        "    secstruct = str(y[j][0]).split()\n",
        "    for i in range(2,(int(z[j][0])-2)):  #z gives the length of the protein\n",
        "        X_train.append(words[(i-2)*22:(i+3)*22]) #Does not include the ngram with less than the required elements\n",
        "        y_train.append(secstruct[i])\n",
        "X_train, y_train = np.array(X_train), np.array(y_train)"
      ],
      "execution_count": null,
      "outputs": []
    },
    {
      "cell_type": "code",
      "metadata": {
        "colab": {
          "base_uri": "https://localhost:8080/"
        },
        "id": "Oj34Suy7z4d5",
        "outputId": "94efb8b5-7cca-497d-e892-be75388b24e1"
      },
      "source": [
        "print(X_train.shape)\n",
        "print(y_train.shape)"
      ],
      "execution_count": null,
      "outputs": [
        {
          "output_type": "stream",
          "text": [
            "(638978, 110)\n",
            "(638978,)\n"
          ],
          "name": "stdout"
        }
      ]
    },
    {
      "cell_type": "code",
      "metadata": {
        "colab": {
          "base_uri": "https://localhost:8080/"
        },
        "id": "lUM3uUi9UU1L",
        "outputId": "e95806bb-488d-4097-88bc-b78c95d1258c"
      },
      "source": [
        "X_train = np.reshape(X_train, (X_train.shape[0], X_train.shape[1], 1))\n",
        "\n",
        "print(X_train.dtype)\n",
        "XF = X_train.astype(np.float)"
      ],
      "execution_count": null,
      "outputs": [
        {
          "output_type": "stream",
          "text": [
            "<U17\n"
          ],
          "name": "stdout"
        }
      ]
    },
    {
      "cell_type": "code",
      "metadata": {
        "colab": {
          "base_uri": "https://localhost:8080/"
        },
        "id": "XWqMbTPf7yf5",
        "outputId": "3eb72c3c-58ce-4686-a767-5f6cc2052db1"
      },
      "source": [
        "print(y_train)\n",
        "yF = y_train.astype(np.float)\n",
        "print(yF)"
      ],
      "execution_count": null,
      "outputs": [
        {
          "output_type": "stream",
          "text": [
            "['0' '0' '5' ... '1' '1' '7']\n",
            "[0. 0. 5. ... 1. 1. 7.]\n"
          ],
          "name": "stdout"
        }
      ]
    },
    {
      "cell_type": "code",
      "metadata": {
        "id": "hm48sif-WWsh"
      },
      "source": [
        "from keras.models import Sequential\n",
        "from keras.layers import Dense\n",
        "from keras.layers import LSTM\n",
        "from keras.layers import Dropout"
      ],
      "execution_count": null,
      "outputs": []
    },
    {
      "cell_type": "code",
      "metadata": {
        "id": "OeZRn3yQiWdD"
      },
      "source": [
        "regressor = Sequential()"
      ],
      "execution_count": null,
      "outputs": []
    },
    {
      "cell_type": "code",
      "metadata": {
        "id": "kbBAtsJG0bgL"
      },
      "source": [
        "regressor.add(LSTM(units = 50, input_shape = (X_train.shape[1], 1)))\n",
        "regressor.add(Dropout(0.2))"
      ],
      "execution_count": null,
      "outputs": []
    },
    {
      "cell_type": "code",
      "metadata": {
        "id": "3gJLxTIN5Yim"
      },
      "source": [
        "regressor.add(Dense(units = 1))"
      ],
      "execution_count": null,
      "outputs": []
    },
    {
      "cell_type": "code",
      "metadata": {
        "id": "-qcWc4CR5rHo"
      },
      "source": [
        "regressor.compile(optimizer = 'adam', loss = 'categorical_crossentropy')"
      ],
      "execution_count": null,
      "outputs": []
    },
    {
      "cell_type": "code",
      "metadata": {
        "colab": {
          "base_uri": "https://localhost:8080/"
        },
        "id": "s1xJCnI76ovi",
        "outputId": "1737336d-8ac6-4ae5-db8c-c0917552196a"
      },
      "source": [
        "regressor.summary()"
      ],
      "execution_count": null,
      "outputs": [
        {
          "output_type": "stream",
          "text": [
            "Model: \"sequential_4\"\n",
            "_________________________________________________________________\n",
            "Layer (type)                 Output Shape              Param #   \n",
            "=================================================================\n",
            "lstm_13 (LSTM)               (None, 50)                10400     \n",
            "_________________________________________________________________\n",
            "dropout_12 (Dropout)         (None, 50)                0         \n",
            "_________________________________________________________________\n",
            "dense_5 (Dense)              (None, 1)                 51        \n",
            "=================================================================\n",
            "Total params: 10,451\n",
            "Trainable params: 10,451\n",
            "Non-trainable params: 0\n",
            "_________________________________________________________________\n"
          ],
          "name": "stdout"
        }
      ]
    },
    {
      "cell_type": "code",
      "metadata": {
        "colab": {
          "background_save": true,
          "base_uri": "https://localhost:8080/"
        },
        "id": "5InOw8sb5tY7",
        "outputId": "f042f6e5-d8ec-4674-8c9e-1a23ea2a5a88"
      },
      "source": [
        "regressor.fit(XF, yF, epochs = 10, batch_size = 100)"
      ],
      "execution_count": null,
      "outputs": [
        {
          "output_type": "stream",
          "text": [
            "Epoch 1/10\n",
            "6390/6390 [==============================] - 465s 73ms/step - loss: 8.2623\n",
            "Epoch 2/10\n",
            "6390/6390 [==============================] - 461s 72ms/step - loss: nan\n",
            "Epoch 3/10\n",
            "6390/6390 [==============================] - 459s 72ms/step - loss: nan\n",
            "Epoch 4/10\n",
            "6390/6390 [==============================] - 460s 72ms/step - loss: nan\n",
            "Epoch 5/10\n",
            "6390/6390 [==============================] - 459s 72ms/step - loss: nan\n",
            "Epoch 6/10\n",
            "6390/6390 [==============================] - 462s 72ms/step - loss: nan\n",
            "Epoch 7/10\n",
            "6390/6390 [==============================] - 461s 72ms/step - loss: nan\n",
            "Epoch 8/10\n",
            "6390/6390 [==============================] - 463s 72ms/step - loss: nan\n",
            "Epoch 9/10\n",
            "6390/6390 [==============================] - 466s 73ms/step - loss: nan\n",
            "Epoch 10/10\n",
            "6390/6390 [==============================] - 459s 72ms/step - loss: nan\n"
          ],
          "name": "stdout"
        },
        {
          "output_type": "execute_result",
          "data": {
            "text/plain": [
              "<tensorflow.python.keras.callbacks.History at 0x7fe25e9bee10>"
            ]
          },
          "metadata": {
            "tags": []
          },
          "execution_count": 0
        }
      ]
    }
  ]
}