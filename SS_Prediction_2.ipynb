{
  "nbformat": 4,
  "nbformat_minor": 0,
  "metadata": {
    "kernelspec": {
      "display_name": "Python 3",
      "language": "python",
      "name": "python3"
    },
    "language_info": {
      "name": "python",
      "version": "3.6.6",
      "mimetype": "text/x-python",
      "codemirror_mode": {
        "name": "ipython",
        "version": 3
      },
      "pygments_lexer": "ipython3",
      "nbconvert_exporter": "python",
      "file_extension": ".py"
    },
    "colab": {
      "name": "SS_Prediction_2.ipynb",
      "provenance": [],
      "collapsed_sections": []
    }
  },
  "cells": [
    {
      "cell_type": "markdown",
      "metadata": {
        "_uuid": "2affe7e67c27ea839c980ceb991ae1e21af03d63",
        "id": "g3GWpbWS4Gq-"
      },
      "source": [
        "# Load Data\n",
        "To show proof of concept only considering sequences shorter than 32 amino acids. Also experiments suggest to apply a sliding overlapping window of size 3 to the input seqeunces. In the sense of  NLP this artificially creates a corpus consisting of much more different words (>7000 different ngrams compared to 20 amino acids). There has been a lot of research in respresenting protein sequences as sentences of  biological words. "
      ]
    },
    {
      "cell_type": "code",
      "metadata": {
        "_uuid": "8f2839f25d086af736a60e9eeb907d3b93b6e0e5",
        "_cell_guid": "b1076dfc-b9ad-4769-8c92-a6c4dae69d19",
        "trusted": true,
        "colab": {
          "base_uri": "https://localhost:8080/",
          "height": 355
        },
        "id": "-lh4Cf2M4GrD",
        "outputId": "4836685b-bb17-4383-8ba9-cae2fb6ea224"
      },
      "source": [
        "import numpy as np \n",
        "import pandas as pd\n",
        "import matplotlib.pyplot as plt\n",
        "%matplotlib inline\n",
        "\n",
        "df = pd.read_csv('/content/2018-06-06-pdb-intersect-pisces.csv')\n",
        "df.len.hist(bins=100)\n",
        "print(df.shape)\n",
        "\n",
        "def seq2ngrams(seqs, n=3):\n",
        "    return np.array([[seq[i:i+n] for i in range(len(seq))] for seq in seqs])\n",
        "\n",
        "maxlen_seq = 128\n",
        "input_seqs, target_seqs = df[['seq', 'sst3']][(df.len <= maxlen_seq) & (~df.has_nonstd_aa)].values.T\n",
        "input_grams = seq2ngrams(input_seqs)\n",
        "print(len(input_seqs))"
      ],
      "execution_count": 9,
      "outputs": [
        {
          "output_type": "stream",
          "name": "stdout",
          "text": [
            "(9078, 11)\n",
            "2101\n"
          ]
        },
        {
          "output_type": "stream",
          "name": "stderr",
          "text": [
            "/usr/local/lib/python3.7/dist-packages/ipykernel_launcher.py:11: VisibleDeprecationWarning: Creating an ndarray from ragged nested sequences (which is a list-or-tuple of lists-or-tuples-or ndarrays with different lengths or shapes) is deprecated. If you meant to do this, you must specify 'dtype=object' when creating the ndarray\n",
            "  # This is added back by InteractiveShellApp.init_path()\n"
          ]
        },
        {
          "output_type": "display_data",
          "data": {
            "image/png": "[encoded data removed]",
            "text/plain": [
              "<Figure size 432x288 with 1 Axes>"
            ]
          },
          "metadata": {
            "needs_background": "light"
          }
        }
      ]
    },
    {
      "cell_type": "markdown",
      "metadata": {
        "_uuid": "02b0631dff6029c9f5c9eab8bc1afe2b0480ddb4",
        "id": "-6lDzAnG4GrG"
      },
      "source": [
        "# Preprocessing\n",
        "use preprocessing tools for text from keras to encode input sequence as word rank numbers  and target sequence as one hot. To ensure easy to use training and testing, all sequences are padded with zeros to the maximum sequence length (in our case 32)."
      ]
    },
    {
      "cell_type": "code",
      "metadata": {
        "trusted": true,
        "_uuid": "0dc3b309d5d2d57c083150b0b7b9e0837cf3cf20",
        "colab": {
          "base_uri": "https://localhost:8080/"
        },
        "id": "fakq2lqk4GrH",
        "outputId": "95b7397d-7f4b-4421-9c8b-dd01d4956d1e"
      },
      "source": [
        "from keras.preprocessing import text, sequence\n",
        "from keras.preprocessing.text import Tokenizer\n",
        "from tensorflow.keras.utils import to_categorical\n",
        "\n",
        "tokenizer_encoder = Tokenizer()\n",
        "tokenizer_encoder.fit_on_texts(input_grams)\n",
        "input_data = tokenizer_encoder.texts_to_sequences(input_grams)\n",
        "input_data = sequence.pad_sequences(input_data, maxlen=maxlen_seq, padding='post')\n",
        "\n",
        "tokenizer_decoder = Tokenizer(char_level=True)\n",
        "tokenizer_decoder.fit_on_texts(target_seqs)\n",
        "target_data = tokenizer_decoder.texts_to_sequences(target_seqs)\n",
        "target_data = sequence.pad_sequences(target_data, maxlen=maxlen_seq, padding='post')\n",
        "target_data = to_categorical(target_data)\n",
        "input_data.shape, target_data.shape"
      ],
      "execution_count": 10,
      "outputs": [
        {
          "output_type": "execute_result",
          "data": {
            "text/plain": [
              "((2101, 128), (2101, 128, 4))"
            ]
          },
          "metadata": {},
          "execution_count": 10
        }
      ]
    },
    {
      "cell_type": "markdown",
      "metadata": {
        "_uuid": "c4654982e789d9f811329ba84201517538b035ab",
        "id": "VnnDLFfa4GrH"
      },
      "source": [
        "# Build model\n",
        "This example is motivated by the NLP-task of POS-tagging. "
      ]
    },
    {
      "cell_type": "code",
      "metadata": {
        "trusted": true,
        "_uuid": "66e75bebfbaea3e539156fc362b0a4cb40095dfe",
        "colab": {
          "base_uri": "https://localhost:8080/"
        },
        "id": "VCfZmU2Z4GrI",
        "outputId": "8467179a-f0f6-4da6-9900-eb35698f2576"
      },
      "source": [
        "from keras.models import Model, Input\n",
        "from keras.layers import LSTM, Embedding, Dense, TimeDistributed, Bidirectional\n",
        "\n",
        "n_words = len(tokenizer_encoder.word_index) + 1\n",
        "n_tags = len(tokenizer_decoder.word_index) + 1\n",
        "print(n_words, n_tags)\n",
        "\n",
        "input = Input(shape=(maxlen_seq,))\n",
        "x = Embedding(input_dim=n_words, output_dim=128, input_length=maxlen_seq)(input)\n",
        "x = Bidirectional(LSTM(units=64, return_sequences=True, recurrent_dropout=0.1))(x)\n",
        "y = TimeDistributed(Dense(n_tags, activation=\"softmax\"))(x)\n",
        "model = Model(input, y)\n",
        "model.summary()"
      ],
      "execution_count": 11,
      "outputs": [
        {
          "output_type": "stream",
          "name": "stdout",
          "text": [
            "8301 4\n",
            "Model: \"model_1\"\n",
            "_________________________________________________________________\n",
            " Layer (type)                Output Shape              Param #   \n",
            "=================================================================\n",
            " input_2 (InputLayer)        [(None, 128)]             0         \n",
            "                                                                 \n",
            " embedding_1 (Embedding)     (None, 128, 128)          1062528   \n",
            "                                                                 \n",
            " bidirectional_1 (Bidirectio  (None, 128, 128)         98816     \n",
            " nal)                                                            \n",
            "                                                                 \n",
            " time_distributed_1 (TimeDis  (None, 128, 4)           516       \n",
            " tributed)                                                       \n",
            "                                                                 \n",
            "=================================================================\n",
            "Total params: 1,161,860\n",
            "Trainable params: 1,161,860\n",
            "Non-trainable params: 0\n",
            "_________________________________________________________________\n"
          ]
        }
      ]
    },
    {
      "cell_type": "markdown",
      "metadata": {
        "_uuid": "92ed195b0b683254ace122b955e288e843dff81e",
        "id": "KvGuE33a4GrJ"
      },
      "source": [
        "# Train and evaluate model\n",
        "The model is trained such that the categorical crossentropy is minimized. For evalutation also Q3-accuracy is computed, by computing the accuracy only for coding characters. "
      ]
    },
    {
      "cell_type": "code",
      "metadata": {
        "trusted": true,
        "_uuid": "10beceaff0e1eb1fba0bf78cd247c58b3c29a1cf",
        "colab": {
          "base_uri": "https://localhost:8080/"
        },
        "id": "tG4gJily4GrL",
        "outputId": "ce7581ff-bf96-494b-9e18-3ae421cf136c"
      },
      "source": [
        "from sklearn.model_selection import train_test_split\n",
        "from keras.metrics import categorical_accuracy\n",
        "from keras import backend  as K\n",
        "import tensorflow as tf\n",
        "\n",
        "def q3_acc(y_true, y_pred):\n",
        "    y = tf.argmax(y_true, axis=-1)\n",
        "    y_ = tf.argmax(y_pred, axis=-1)\n",
        "    mask = tf.greater(y, 0)\n",
        "    return K.cast(K.equal(tf.boolean_mask(y, mask), tf.boolean_mask(y_, mask)), K.floatx())\n",
        "\n",
        "model.compile(optimizer=\"rmsprop\", loss=\"categorical_crossentropy\", metrics=[\"accuracy\", q3_acc])\n",
        "\n",
        "X_train, X_test, y_train, y_test = train_test_split(input_data, target_data, test_size=.4, random_state=0)\n",
        "seq_train, seq_test, target_train, target_test = train_test_split(input_seqs, target_seqs, test_size=.4, random_state=0)\n",
        "\n",
        "model.fit(X_train, y_train, batch_size=128, epochs=25, validation_data=(X_test, y_test), verbose=1)"
      ],
      "execution_count": 12,
      "outputs": [
        {
          "output_type": "stream",
          "name": "stdout",
          "text": [
            "Epoch 1/25\n",
            "10/10 [==============================] - 13s 808ms/step - loss: 1.0937 - accuracy: 0.5331 - q3_acc: 0.3591 - val_loss: 0.8366 - val_accuracy: 0.6015 - val_q3_acc: 0.4060\n",
            "Epoch 2/25\n",
            "10/10 [==============================] - 7s 743ms/step - loss: 0.7902 - accuracy: 0.6093 - q3_acc: 0.4270 - val_loss: 0.7348 - val_accuracy: 0.5968 - val_q3_acc: 0.3969\n",
            "Epoch 3/25\n",
            "10/10 [==============================] - 7s 741ms/step - loss: 0.7194 - accuracy: 0.6748 - q3_acc: 0.5224 - val_loss: 0.6759 - val_accuracy: 0.7172 - val_q3_acc: 0.5782\n",
            "Epoch 4/25\n",
            "10/10 [==============================] - 7s 753ms/step - loss: 0.6457 - accuracy: 0.7219 - q3_acc: 0.5919 - val_loss: 0.6337 - val_accuracy: 0.7032 - val_q3_acc: 0.5561\n",
            "Epoch 5/25\n",
            "10/10 [==============================] - 7s 750ms/step - loss: 0.5834 - accuracy: 0.7481 - q3_acc: 0.6301 - val_loss: 0.6278 - val_accuracy: 0.7184 - val_q3_acc: 0.5786\n",
            "Epoch 6/25\n",
            "10/10 [==============================] - 7s 753ms/step - loss: 0.5411 - accuracy: 0.7680 - q3_acc: 0.6591 - val_loss: 0.5773 - val_accuracy: 0.7448 - val_q3_acc: 0.6181\n",
            "Epoch 7/25\n",
            "10/10 [==============================] - 7s 743ms/step - loss: 0.4926 - accuracy: 0.7925 - q3_acc: 0.6951 - val_loss: 0.6465 - val_accuracy: 0.7032 - val_q3_acc: 0.5557\n",
            "Epoch 8/25\n",
            "10/10 [==============================] - 7s 745ms/step - loss: 0.4661 - accuracy: 0.8063 - q3_acc: 0.7153 - val_loss: 0.5756 - val_accuracy: 0.7440 - val_q3_acc: 0.6166\n",
            "Epoch 9/25\n",
            "10/10 [==============================] - 7s 747ms/step - loss: 0.4383 - accuracy: 0.8181 - q3_acc: 0.7327 - val_loss: 0.5768 - val_accuracy: 0.7463 - val_q3_acc: 0.6200\n",
            "Epoch 10/25\n",
            "10/10 [==============================] - 7s 741ms/step - loss: 0.4154 - accuracy: 0.8293 - q3_acc: 0.7490 - val_loss: 0.5720 - val_accuracy: 0.7513 - val_q3_acc: 0.6276\n",
            "Epoch 11/25\n",
            "10/10 [==============================] - 7s 739ms/step - loss: 0.3903 - accuracy: 0.8388 - q3_acc: 0.7631 - val_loss: 0.6078 - val_accuracy: 0.7383 - val_q3_acc: 0.6083\n",
            "Epoch 12/25\n",
            "10/10 [==============================] - 7s 745ms/step - loss: 0.3801 - accuracy: 0.8436 - q3_acc: 0.7701 - val_loss: 0.5809 - val_accuracy: 0.7514 - val_q3_acc: 0.6278\n",
            "Epoch 13/25\n",
            "10/10 [==============================] - 7s 752ms/step - loss: 0.3522 - accuracy: 0.8565 - q3_acc: 0.7890 - val_loss: 0.6124 - val_accuracy: 0.7448 - val_q3_acc: 0.6179\n",
            "Epoch 14/25\n",
            "10/10 [==============================] - 7s 739ms/step - loss: 0.3410 - accuracy: 0.8608 - q3_acc: 0.7954 - val_loss: 0.6168 - val_accuracy: 0.7478 - val_q3_acc: 0.6223\n",
            "Epoch 15/25\n",
            "10/10 [==============================] - 7s 743ms/step - loss: 0.3276 - accuracy: 0.8667 - q3_acc: 0.8041 - val_loss: 0.6544 - val_accuracy: 0.7389 - val_q3_acc: 0.6090\n",
            "Epoch 16/25\n",
            "10/10 [==============================] - 7s 741ms/step - loss: 0.3076 - accuracy: 0.8759 - q3_acc: 0.8176 - val_loss: 0.6527 - val_accuracy: 0.7486 - val_q3_acc: 0.6236\n",
            "Epoch 17/25\n",
            "10/10 [==============================] - 7s 755ms/step - loss: 0.3043 - accuracy: 0.8764 - q3_acc: 0.8183 - val_loss: 0.6426 - val_accuracy: 0.7498 - val_q3_acc: 0.6253\n",
            "Epoch 18/25\n",
            "10/10 [==============================] - 7s 745ms/step - loss: 0.2923 - accuracy: 0.8826 - q3_acc: 0.8275 - val_loss: 0.6546 - val_accuracy: 0.7486 - val_q3_acc: 0.6235\n",
            "Epoch 19/25\n",
            "10/10 [==============================] - 7s 757ms/step - loss: 0.2783 - accuracy: 0.8876 - q3_acc: 0.8347 - val_loss: 0.6666 - val_accuracy: 0.7458 - val_q3_acc: 0.6194\n",
            "Epoch 20/25\n",
            "10/10 [==============================] - 7s 739ms/step - loss: 0.2651 - accuracy: 0.8938 - q3_acc: 0.8439 - val_loss: 0.7089 - val_accuracy: 0.7407 - val_q3_acc: 0.6117\n",
            "Epoch 21/25\n",
            "10/10 [==============================] - 7s 744ms/step - loss: 0.2573 - accuracy: 0.8972 - q3_acc: 0.8488 - val_loss: 0.7184 - val_accuracy: 0.7401 - val_q3_acc: 0.6107\n",
            "Epoch 22/25\n",
            "10/10 [==============================] - 7s 744ms/step - loss: 0.2501 - accuracy: 0.9001 - q3_acc: 0.8531 - val_loss: 0.7321 - val_accuracy: 0.7397 - val_q3_acc: 0.6101\n",
            "Epoch 23/25\n",
            "10/10 [==============================] - 7s 734ms/step - loss: 0.2362 - accuracy: 0.9069 - q3_acc: 0.8631 - val_loss: 0.7685 - val_accuracy: 0.7344 - val_q3_acc: 0.6023\n",
            "Epoch 24/25\n",
            "10/10 [==============================] - 7s 744ms/step - loss: 0.2323 - accuracy: 0.9075 - q3_acc: 0.8640 - val_loss: 0.7709 - val_accuracy: 0.7391 - val_q3_acc: 0.6093\n",
            "Epoch 25/25\n",
            "10/10 [==============================] - 7s 745ms/step - loss: 0.2210 - accuracy: 0.9123 - q3_acc: 0.8711 - val_loss: 0.7990 - val_accuracy: 0.7362 - val_q3_acc: 0.6050\n"
          ]
        },
        {
          "output_type": "execute_result",
          "data": {
            "text/plain": [
              "<keras.callbacks.History at 0x7fb7077a2e10>"
            ]
          },
          "metadata": {},
          "execution_count": 12
        }
      ]
    },
    {
      "cell_type": "markdown",
      "metadata": {
        "_uuid": "87da064b3c5af2806a0a72713186d1598fd90056",
        "id": "N9mzJB674GrN"
      },
      "source": [
        "# Results\n",
        "For this small example, the model trained very fast and achieves quite reasonable Q3-accuaracies. In the following three training and three testing examples are shown. Each image shows the softmax activation (red) on top of the underlying one hot ground truth (blue)."
      ]
    },
    {
      "cell_type": "code",
      "metadata": {
        "trusted": true,
        "_uuid": "8021e5b9b6da12c1133e70dc062a7a85ec0d0ff7",
        "colab": {
          "base_uri": "https://localhost:8080/",
          "height": 774
        },
        "id": "sAjTewfx4GrO",
        "outputId": "60ad47be-b3ed-48e2-cf0f-7c80a3d53f15"
      },
      "source": [
        "def onehot_to_seq(oh_seq, index):\n",
        "    s = ''\n",
        "    for o in oh_seq:\n",
        "        i = np.argmax(o)\n",
        "        if i != 0:\n",
        "            s += index[i]\n",
        "        else:\n",
        "            break\n",
        "    return s\n",
        "\n",
        "def plot_results(x, y, y_):\n",
        "    print(\"---\")\n",
        "    print(\"Input: \" + str(x))\n",
        "    print(\"Target: \" + str(onehot_to_seq(y, revsere_decoder_index).upper()))\n",
        "    print(\"Result: \" + str(onehot_to_seq(y_, revsere_decoder_index).upper()))\n",
        "    fig = plt.figure(figsize=(10,2))\n",
        "    plt.imshow(y.T, cmap='Blues')\n",
        "    plt.imshow(y_.T, cmap='Reds', alpha=.5)\n",
        "    plt.yticks(range(4), [' '] + [revsere_decoder_index[i+1].upper() for i in range(3)])\n",
        "    plt.show()\n",
        "    \n",
        "revsere_decoder_index = {value:key for key,value in tokenizer_decoder.word_index.items()}\n",
        "revsere_encoder_index = {value:key for key,value in tokenizer_encoder.word_index.items()}\n",
        "\n",
        "N=3\n",
        "y_train_pred = model.predict(X_train[:N])\n",
        "y_test_pred = model.predict(X_test[:N])\n",
        "print('training')\n",
        "for i in range(N):\n",
        "    plot_results(seq_train[i], y_train[i], y_train_pred[i])\n",
        "print('testing')\n",
        "for i in range(N):\n",
        "    plot_results(seq_test[i], y_test[i], y_test_pred[i])"
      ],
      "execution_count": 13,
      "outputs": [
        {
          "output_type": "stream",
          "name": "stdout",
          "text": [
            "training\n",
            "---\n",
            "Input: APTRQPSPVTRPWQHVDAIKEALSLLNDSTDTAAVMDETVEVVSEMFDSQEPTCLQTRLELYKQGLRGSLTSLTGSLTMMASHYKKHCPPTQETSCETQIITFKSFKENLKDFLFIIPFDCWEPVQK\n",
            "Target: CCCCCCCCCCCCCHHHHHHHHHHHHHHCCCCCHHHHCCEEEEECCCCCCCCCCCHHHHHHHHHHHCCHHHHHHHHHHHHHHHHHHHHCCCCCCCCCCEEEEEHHHHHHHHHHHHHHCCCCCCCCCCC\n",
            "Result: CCCCCCCCCCCCCCCHHHHHHHHHHHCCCCCCCCCCCCCEEEEECCCCCCCCCHHHHHHHHHHHHHCCHHHHHHHHHHHHHHHHHHHCCCCCCCCCEEEEEEEHHHHHHHHHHHHHCCCCCCCCCCC\n"
          ]
        },
        {
          "output_type": "display_data",
          "data": {
            "image/png": "[encoded data removed]",
            "text/plain": [
              "<Figure size 720x144 with 1 Axes>"
            ]
          },
          "metadata": {
            "needs_background": "light"
          }
        },
        {
          "output_type": "stream",
          "name": "stdout",
          "text": [
            "---\n",
            "Input: QGQFFREIENLKEYFNASSPDVAKGGPLFSEILKNWKDESDKKIIQSQIVSFYFKLFENLKDNQVIQRSMDIIKQDMFQKFLNGSSEKLEDFKKLIQIPVDDLQIQRKAINELIKVMNDLS\n",
            "Target: CCCHHHHHHHHHHHHCCCCHHHHCCCCCCHHHHHHCCCCCCCHHHHHHHHHHHHHHHHHCCCCCCCHHHHHHHHHHHHHHHCCCCHHHHHHHHHHHCCCCCCHHHHHHHHHCHHHHHHHCC\n",
            "Result: CCHHHHHHHHHHHHHCCCCCHHHCCCCHHHHHHHHCCCCCCHHHHHHHHHHHHHHHHHCHCCCCCHHHHHHHHHHHHHHHHHCCCHHHHHHHHHHHCCCCCCHHHHHHHHHHHHHHHHCCC\n"
          ]
        },
        {
          "output_type": "display_data",
          "data": {
            "image/png": "[encoded data removed]",
            "text/plain": [
              "<Figure size 720x144 with 1 Axes>"
            ]
          },
          "metadata": {
            "needs_background": "light"
          }
        },
        {
          "output_type": "stream",
          "name": "stdout",
          "text": [
            "---\n",
            "Input: EPAAAPAPTKEEVLLTEIRDLLKEQNNRS\n",
            "Target: CCCCCCCCCHHHHHHHHHHHHHHHHHHHC\n",
            "Result: CCCCCCCCCHHHHHHHHHHHHHHHHHCCC\n"
          ]
        },
        {
          "output_type": "display_data",
          "data": {
            "image/png": "[encoded data removed]",
            "text/plain": [
              "<Figure size 720x144 with 1 Axes>"
            ]
          },
          "metadata": {
            "needs_background": "light"
          }
        },
        {
          "output_type": "stream",
          "name": "stdout",
          "text": [
            "testing\n",
            "---\n",
            "Input: GSHMSASCGSGNFNKTAAKGVEFSAVAGDCIKYNKSSGTLQIGSWTGVASSYNITSGPQGITNTGNGWTTVANAANGDLYIKIVSASRSFNVKFDNW\n",
            "Target: CCCCCCCCCCCCCCEECCCCCCEEECCCCEEEEEECCCCEEEEECCCCCEEEEECCCCCCEEECCCEEEEECCCCCEEEEEEEEEECCCEEEEEEEC\n",
            "Result: CCCCCCCECCCCECCCCCCCEEEEEECCEEEEECCCCCEEEEEEEEEEEEECCCCCCCCCCCCCCCCCCEECCCCCCCEEEEEEEEECEECCCCCCC\n"
          ]
        },
        {
          "output_type": "display_data",
          "data": {
            "image/png": "[encoded data removed]",
            "text/plain": [
              "<Figure size 720x144 with 1 Axes>"
            ]
          },
          "metadata": {
            "needs_background": "light"
          }
        },
        {
          "output_type": "stream",
          "name": "stdout",
          "text": [
            "---\n",
            "Input: MKKRSKARKETYSSYIYKVLKQTHPDTGISQKSMSILNSFVNDIFERIATEASKLAAYNKKSTISAREIQTAVRLILPGELAKHAVSEGTRAVTKYSSSTQA\n",
            "Target: CCCCCCCCCCCCHHHHHHHHHHHCCCCEEEHHHHHHHHHHHHHHHHHHHHHHHHHHHHCCCCEECHHHHHHHHHHHCCHHHHHHHHHHHHHHHHHHHCCCCC\n",
            "Result: CCCCCCCCCCCCHHHHHHHHHHHCCCCCCCCCCCCECCHHHHHHHHHHHHHHHHHHCHCCCCCHHHHHHHHHHHHHHHHHHHHHHHHHCHHHHHCCCCCCCC\n"
          ]
        },
        {
          "output_type": "display_data",
          "data": {
            "image/png": "[encoded data removed]",
            "text/plain": [
              "<Figure size 720x144 with 1 Axes>"
            ]
          },
          "metadata": {
            "needs_background": "light"
          }
        },
        {
          "output_type": "stream",
          "name": "stdout",
          "text": [
            "---\n",
            "Input: GPSSPSVSDYTRANFGGLSEGEAQFSMTARALLDELTDLEGKLRAKLDRWDGDAQAAYWNYQKEWDAAAKDMQNVVAQLGVAIREAHDNYQAAERANTSIWAG\n",
            "Target: CCCCCCHHHHHHHHHHHHHHHHHHHHHHHHHHHHHHHHHHHHHHCCHHHCCHHHHHHHHHHHHHHHHHHHHHHHHHHHHHHHHHHHCCCCCCCCCCCCCCCCC\n",
            "Result: CCCCCCCCCEEECCCCCCCCCHHHHHHHHHHHHHHHHHHCCHHHHCCCCCCCCHCHCCCCCCCHHCHHHHHHHHHHHHHHHHHHHHHCCCCCCCCCCCCCCCC\n"
          ]
        },
        {
          "output_type": "display_data",
          "data": {
            "image/png": "[encoded data removed]",
            "text/plain": [
              "<Figure size 720x144 with 1 Axes>"
            ]
          },
          "metadata": {
            "needs_background": "light"
          }
        }
      ]
    }
  ]
}